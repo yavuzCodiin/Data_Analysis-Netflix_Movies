{
 "cells": [
  {
   "cell_type": "code",
   "execution_count": null,
   "metadata": {},
   "outputs": [],
   "source": [
    "import pandas as pd\n",
    "import matplotlib.pyplot as plt\n",
    "\n",
    "netflix_df = pd.read_csv(\"netflix_data.csv\")"
   ]
  },
  {
   "cell_type": "code",
   "execution_count": null,
   "metadata": {},
   "outputs": [],
   "source": [
    "netflix_subset = netflix_df[netflix_df[\"type\"] == \"Movie\"]"
   ]
  },
  {
   "cell_type": "code",
   "execution_count": null,
   "metadata": {},
   "outputs": [],
   "source": [
    "netflix_movies = netflix_subset[[\"title\", \"country\", \"genre\", \"release_year\", \"duration\"]]"
   ]
  },
  {
   "cell_type": "code",
   "execution_count": null,
   "metadata": {},
   "outputs": [],
   "source": [
    "short_movies = netflix_movies[netflix_movies.duration < 60]"
   ]
  },
  {
   "cell_type": "code",
   "execution_count": null,
   "metadata": {},
   "outputs": [],
   "source": [
    "short_movies[\"genre\"].value_counts() #most of them are Children movies, Documentaries, Stand-Ups"
   ]
  },
  {
   "cell_type": "code",
   "execution_count": null,
   "metadata": {},
   "outputs": [],
   "source": [
    "short_movies[\"duration\"].sum() #17633 minutes of content under 60 minutes"
   ]
  },
  {
   "cell_type": "code",
   "execution_count": null,
   "metadata": {},
   "outputs": [],
   "source": [
    "short_movies[\"country\"].value_counts() # most of them are from US, UK, CA rest is almost same"
   ]
  },
  {
   "cell_type": "code",
   "execution_count": null,
   "metadata": {},
   "outputs": [],
   "source": [
    "genre_colors = {\n",
    "    \"Children\": \"red\",\n",
    "    \"Documentaries\": \"blue\",\n",
    "    \"Stand-Up\": \"green\"\n",
    "}\n",
    "\n",
    "# Loop over the genre-color pairs\n",
    "for genre, color in genre_colors.items():\n",
    "    # Filter movies by genre\n",
    "    genre_movies = netflix_movies[netflix_movies.genre == genre]\n",
    "    # Plot each genre with its respective color\n",
    "    plt.scatter(genre_movies.release_year, genre_movies.duration, color=color, label=genre)\n",
    "\n",
    "# Plot remaining genres as 'Other'\n",
    "other_movies = netflix_movies[~netflix_movies.genre.isin(genre_colors.keys())]\n",
    "plt.scatter(other_movies.release_year, other_movies.duration, color=\"black\", label=\"Other\")"
   ]
  },
  {
   "cell_type": "code",
   "execution_count": null,
   "metadata": {},
   "outputs": [],
   "source": [
    "fig = plt.figure(figsize=(12,8))\n",
    "\n",
    "# Create a title and axis labels\n",
    "plt.title(\"Movie Duration by Year of Release\")\n",
    "plt.xlabel(\"Release year\")\n",
    "plt.ylabel(\"Duration (min)\")\n",
    "\n",
    "# Show the legend\n",
    "plt.legend()\n",
    "\n",
    "# Show the plot\n",
    "plt.show()\n"
   ]
  }
 ],
 "metadata": {
  "language_info": {
   "name": "python"
  }
 },
 "nbformat": 4,
 "nbformat_minor": 2
}
